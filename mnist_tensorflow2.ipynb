{
  "nbformat": 4,
  "nbformat_minor": 0,
  "metadata": {
    "colab": {
      "name": "mnist_tensorflow2.ipynb",
      "provenance": [],
      "collapsed_sections": [
        "rX8mhOLljYeM"
      ],
      "toc_visible": true,
      "include_colab_link": true
    },
    "kernelspec": {
      "display_name": "Python 3",
      "name": "python3"
    }
  },
  "cells": [
    {
      "cell_type": "markdown",
      "metadata": {
        "id": "view-in-github",
        "colab_type": "text"
      },
      "source": [
        "<a href=\"https://colab.research.google.com/github/premonish/mnist_quick/blob/main/mnist_tensorflow2.ipynb\" target=\"_parent\"><img src=\"https://colab.research.google.com/assets/colab-badge.svg\" alt=\"Open In Colab\"/></a>"
      ]
    },
    {
      "cell_type": "markdown",
      "metadata": {
        "id": "rX8mhOLljYeM"
      },
      "source": [
        "##### Copyright 2019 The TensorFlow Authors."
      ]
    },
    {
      "cell_type": "code",
      "metadata": {
        "cellView": "form",
        "id": "BZSlp3DAjdYf"
      },
      "source": [
        "#@title Licensed under the Apache License, Version 2.0 (the \"License\");\n",
        "# you may not use this file except in compliance with the License.\n",
        "# You may obtain a copy of the License at\n",
        "#\n",
        "# https://www.apache.org/licenses/LICENSE-2.0\n",
        "#\n",
        "# Unless required by applicable law or agreed to in writing, software\n",
        "# distributed under the License is distributed on an \"AS IS\" BASIS,\n",
        "# WITHOUT WARRANTIES OR CONDITIONS OF ANY KIND, either express or implied.\n",
        "# See the License for the specific language governing permissions and\n",
        "# limitations under the License."
      ],
      "execution_count": 1,
      "outputs": []
    },
    {
      "cell_type": "markdown",
      "metadata": {
        "id": "3wF5wszaj97Y"
      },
      "source": [
        "# TensorFlow 2 quickstart for beginners"
      ]
    },
    {
      "cell_type": "markdown",
      "metadata": {
        "id": "DUNzJc4jTj6G"
      },
      "source": [
        "<table class=\"tfo-notebook-buttons\" align=\"left\">\n",
        "  <td>\n",
        "    <a target=\"_blank\" href=\"https://www.tensorflow.org/tutorials/quickstart/beginner\"><img src=\"https://www.tensorflow.org/images/tf_logo_32px.png\" />View on TensorFlow.org</a>\n",
        "  </td>\n",
        "  <td>\n",
        "    <a target=\"_blank\" href=\"https://colab.research.google.com/github/tensorflow/docs/blob/master/site/en/tutorials/quickstart/beginner.ipynb\"><img src=\"https://www.tensorflow.org/images/colab_logo_32px.png\" />Run in Google Colab</a>\n",
        "  </td>\n",
        "  <td>\n",
        "    <a target=\"_blank\" href=\"https://github.com/tensorflow/docs/blob/master/site/en/tutorials/quickstart/beginner.ipynb\"><img src=\"https://www.tensorflow.org/images/GitHub-Mark-32px.png\" />View source on GitHub</a>\n",
        "  </td>\n",
        "  <td>\n",
        "    <a href=\"https://storage.googleapis.com/tensorflow_docs/docs/site/en/tutorials/quickstart/beginner.ipynb\"><img src=\"https://www.tensorflow.org/images/download_logo_32px.png\" />Download notebook</a>\n",
        "  </td>\n",
        "</table>"
      ]
    },
    {
      "cell_type": "markdown",
      "metadata": {
        "id": "04QgGZc9bF5D"
      },
      "source": [
        "This short introduction uses [Keras](https://www.tensorflow.org/guide/keras/overview) to:\n",
        "\n",
        "1. Build a neural network that classifies images.\n",
        "2. Train this neural network.\n",
        "3. And, finally, evaluate the accuracy of the model."
      ]
    },
    {
      "cell_type": "markdown",
      "metadata": {
        "id": "hiH7AC-NTniF"
      },
      "source": [
        "This is a [Google Colaboratory](https://colab.research.google.com/notebooks/welcome.ipynb) notebook file. Python programs are run directly in the browser—a great way to learn and use TensorFlow. To follow this tutorial, run the notebook in Google Colab by clicking the button at the top of this page.\n",
        "\n",
        "1. In Colab, connect to a Python runtime: At the top-right of the menu bar, select *CONNECT*.\n",
        "2. Run all the notebook code cells: Select *Runtime* > *Run all*."
      ]
    },
    {
      "cell_type": "markdown",
      "metadata": {
        "id": "nnrWf3PCEzXL"
      },
      "source": [
        "Download and install TensorFlow 2. Import TensorFlow into your program:\n",
        "\n",
        "Note: Upgrade `pip` to install the TensorFlow 2 package. See the [install guide](https://www.tensorflow.org/install) for details."
      ]
    },
    {
      "cell_type": "code",
      "metadata": {
        "id": "0trJmd6DjqBZ"
      },
      "source": [
        "import tensorflow as tf"
      ],
      "execution_count": 2,
      "outputs": []
    },
    {
      "cell_type": "markdown",
      "metadata": {
        "id": "7NAbSZiaoJ4z"
      },
      "source": [
        "Load and prepare the [MNIST dataset](http://yann.lecun.com/exdb/mnist/). Convert the samples from integers to floating-point numbers:"
      ]
    },
    {
      "cell_type": "code",
      "metadata": {
        "id": "7FP5258xjs-v"
      },
      "source": [
        "mnist = tf.keras.datasets.mnist\n",
        "\n",
        "(x_train, y_train), (x_test, y_test) = mnist.load_data()\n",
        "x_train, x_test = x_train / 255.0, x_test / 255.0"
      ],
      "execution_count": 3,
      "outputs": []
    },
    {
      "cell_type": "markdown",
      "metadata": {
        "id": "BPZ68wASog_I"
      },
      "source": [
        "Build the `tf.keras.Sequential` model by stacking layers. Choose an optimizer and loss function for training:"
      ]
    },
    {
      "cell_type": "code",
      "metadata": {
        "id": "h3IKyzTCDNGo"
      },
      "source": [
        "model = tf.keras.models.Sequential([\n",
        "  tf.keras.layers.Flatten(input_shape=(28, 28)),\n",
        "  tf.keras.layers.Dense(128, activation='relu'),\n",
        "  tf.keras.layers.Dropout(0.2),\n",
        "  tf.keras.layers.Dense(10)\n",
        "])"
      ],
      "execution_count": 4,
      "outputs": []
    },
    {
      "cell_type": "markdown",
      "metadata": {
        "id": "l2hiez2eIUz8"
      },
      "source": [
        "For each example the model returns a vector of \"[logits](https://developers.google.com/machine-learning/glossary#logits)\" or \"[log-odds](https://developers.google.com/machine-learning/glossary#log-odds)\" scores, one for each class."
      ]
    },
    {
      "cell_type": "code",
      "metadata": {
        "id": "OeOrNdnkEEcR",
        "colab": {
          "base_uri": "https://localhost:8080/"
        },
        "outputId": "90f03ae3-4bb1-4e72-9dab-c9fae930ff05"
      },
      "source": [
        "predictions = model(x_train[:1]).numpy()\n",
        "predictions"
      ],
      "execution_count": 5,
      "outputs": [
        {
          "output_type": "execute_result",
          "data": {
            "text/plain": [
              "array([[ 0.52754474,  0.15827344, -0.282054  , -0.8152602 , -0.7504856 ,\n",
              "        -0.5510911 ,  0.1570073 ,  0.09622788, -0.36928886,  0.0723834 ]],\n",
              "      dtype=float32)"
            ]
          },
          "metadata": {
            "tags": []
          },
          "execution_count": 5
        }
      ]
    },
    {
      "cell_type": "markdown",
      "metadata": {
        "id": "tgjhDQGcIniO"
      },
      "source": [
        "The `tf.nn.softmax` function converts these logits to \"probabilities\" for each class: "
      ]
    },
    {
      "cell_type": "code",
      "metadata": {
        "id": "zWSRnQ0WI5eq",
        "colab": {
          "base_uri": "https://localhost:8080/"
        },
        "outputId": "a27ab6b9-f41b-47d0-dcce-9b38f0818f60"
      },
      "source": [
        "tf.nn.softmax(predictions).numpy()"
      ],
      "execution_count": 6,
      "outputs": [
        {
          "output_type": "execute_result",
          "data": {
            "text/plain": [
              "array([[0.18524513, 0.12804845, 0.08244086, 0.04836977, 0.0516066 ,\n",
              "        0.06299429, 0.12788643, 0.12034506, 0.0755539 , 0.11750943]],\n",
              "      dtype=float32)"
            ]
          },
          "metadata": {
            "tags": []
          },
          "execution_count": 6
        }
      ]
    },
    {
      "cell_type": "markdown",
      "metadata": {
        "id": "he5u_okAYS4a"
      },
      "source": [
        "Note: It is possible to bake this `tf.nn.softmax` in as the activation function for the last layer of the network. While this can make the model output more directly interpretable, this approach is discouraged as it's impossible to\n",
        "provide an exact and numerically stable loss calculation for all models when using a softmax output. "
      ]
    },
    {
      "cell_type": "markdown",
      "metadata": {
        "id": "hQyugpgRIyrA"
      },
      "source": [
        "The `losses.SparseCategoricalCrossentropy` loss takes a vector of logits and a `True` index and returns a scalar loss for each example."
      ]
    },
    {
      "cell_type": "code",
      "metadata": {
        "id": "RSkzdv8MD0tT"
      },
      "source": [
        "loss_fn = tf.keras.losses.SparseCategoricalCrossentropy(from_logits=True)"
      ],
      "execution_count": 7,
      "outputs": []
    },
    {
      "cell_type": "markdown",
      "metadata": {
        "id": "SfR4MsSDU880"
      },
      "source": [
        "This loss is equal to the negative log probability of the true class:\n",
        "It is zero if the model is sure of the correct class.\n",
        "\n",
        "This untrained model gives probabilities close to random (1/10 for each class), so the initial loss should be close to `-tf.math.log(1/10) ~= 2.3`."
      ]
    },
    {
      "cell_type": "code",
      "metadata": {
        "id": "NJWqEVrrJ7ZB",
        "colab": {
          "base_uri": "https://localhost:8080/"
        },
        "outputId": "4936c4b0-241c-4af6-aefa-45daa3804b5e"
      },
      "source": [
        "loss_fn(y_train[:1], predictions).numpy()"
      ],
      "execution_count": 8,
      "outputs": [
        {
          "output_type": "execute_result",
          "data": {
            "text/plain": [
              "2.7647111"
            ]
          },
          "metadata": {
            "tags": []
          },
          "execution_count": 8
        }
      ]
    },
    {
      "cell_type": "code",
      "metadata": {
        "id": "9foNKHzTD2Vo"
      },
      "source": [
        "model.compile(optimizer='adam',\n",
        "              loss=loss_fn,\n",
        "              metrics=['accuracy'])"
      ],
      "execution_count": 9,
      "outputs": []
    },
    {
      "cell_type": "markdown",
      "metadata": {
        "id": "ix4mEL65on-w"
      },
      "source": [
        "The `Model.fit` method adjusts the model parameters to minimize the loss: "
      ]
    },
    {
      "cell_type": "code",
      "metadata": {
        "colab": {
          "base_uri": "https://localhost:8080/",
          "height": 967
        },
        "id": "r-4SH8U8eKjq",
        "outputId": "8077fcf9-e14c-4c2f-b4eb-f1361f7e0af0"
      },
      "source": [
        "# example of plotting learning curves\n",
        "# from sklearn.datasets import make_classification\n",
        "# from tensorflow.keras import Sequential\n",
        "# from tensorflow.keras.layers import Dense\n",
        "# from tensorflow.keras.optimizers import SGD\n",
        "from matplotlib import pyplot\n",
        "\n",
        "history = model.fit(x_train, y_train, epochs=20, verbose=1, validation_split=.3)\n",
        "# plot learning curves\n",
        "pyplot.title('Learning Curves')\n",
        "pyplot.xlabel('Epoch')\n",
        "pyplot.ylabel('Cross Entropy Loss')\n",
        "pyplot.plot(history.history['loss'], label='train')\n",
        "pyplot.plot(history.history['val_loss'], label='val')\n",
        "pyplot.legend()\n",
        "pyplot.show()"
      ],
      "execution_count": 10,
      "outputs": [
        {
          "output_type": "stream",
          "text": [
            "Epoch 1/20\n",
            "1313/1313 [==============================] - 4s 3ms/step - loss: 0.3423 - accuracy: 0.9013 - val_loss: 0.1855 - val_accuracy: 0.9458\n",
            "Epoch 2/20\n",
            "1313/1313 [==============================] - 3s 3ms/step - loss: 0.1676 - accuracy: 0.9509 - val_loss: 0.1298 - val_accuracy: 0.9629\n",
            "Epoch 3/20\n",
            "1313/1313 [==============================] - 3s 3ms/step - loss: 0.1235 - accuracy: 0.9630 - val_loss: 0.1187 - val_accuracy: 0.9641\n",
            "Epoch 4/20\n",
            "1313/1313 [==============================] - 3s 2ms/step - loss: 0.0973 - accuracy: 0.9704 - val_loss: 0.1107 - val_accuracy: 0.9683\n",
            "Epoch 5/20\n",
            "1313/1313 [==============================] - 3s 2ms/step - loss: 0.0812 - accuracy: 0.9744 - val_loss: 0.0994 - val_accuracy: 0.9708\n",
            "Epoch 6/20\n",
            "1313/1313 [==============================] - 3s 2ms/step - loss: 0.0731 - accuracy: 0.9767 - val_loss: 0.0938 - val_accuracy: 0.9726\n",
            "Epoch 7/20\n",
            "1313/1313 [==============================] - 3s 3ms/step - loss: 0.0616 - accuracy: 0.9800 - val_loss: 0.0978 - val_accuracy: 0.9719\n",
            "Epoch 8/20\n",
            "1313/1313 [==============================] - 3s 2ms/step - loss: 0.0539 - accuracy: 0.9833 - val_loss: 0.0942 - val_accuracy: 0.9731\n",
            "Epoch 9/20\n",
            "1313/1313 [==============================] - 3s 2ms/step - loss: 0.0484 - accuracy: 0.9844 - val_loss: 0.0951 - val_accuracy: 0.9724\n",
            "Epoch 10/20\n",
            "1313/1313 [==============================] - 3s 2ms/step - loss: 0.0468 - accuracy: 0.9845 - val_loss: 0.0955 - val_accuracy: 0.9739\n",
            "Epoch 11/20\n",
            "1313/1313 [==============================] - 3s 2ms/step - loss: 0.0420 - accuracy: 0.9856 - val_loss: 0.1037 - val_accuracy: 0.9719\n",
            "Epoch 12/20\n",
            "1313/1313 [==============================] - 3s 2ms/step - loss: 0.0360 - accuracy: 0.9880 - val_loss: 0.1006 - val_accuracy: 0.9748\n",
            "Epoch 13/20\n",
            "1313/1313 [==============================] - 3s 2ms/step - loss: 0.0370 - accuracy: 0.9873 - val_loss: 0.0929 - val_accuracy: 0.9752\n",
            "Epoch 14/20\n",
            "1313/1313 [==============================] - 3s 3ms/step - loss: 0.0320 - accuracy: 0.9893 - val_loss: 0.0987 - val_accuracy: 0.9748\n",
            "Epoch 15/20\n",
            "1313/1313 [==============================] - 3s 2ms/step - loss: 0.0295 - accuracy: 0.9900 - val_loss: 0.1010 - val_accuracy: 0.9746\n",
            "Epoch 16/20\n",
            "1313/1313 [==============================] - 3s 2ms/step - loss: 0.0285 - accuracy: 0.9898 - val_loss: 0.1029 - val_accuracy: 0.9750\n",
            "Epoch 17/20\n",
            "1313/1313 [==============================] - 3s 2ms/step - loss: 0.0274 - accuracy: 0.9903 - val_loss: 0.1041 - val_accuracy: 0.9763\n",
            "Epoch 18/20\n",
            "1313/1313 [==============================] - 3s 2ms/step - loss: 0.0255 - accuracy: 0.9913 - val_loss: 0.1051 - val_accuracy: 0.9756\n",
            "Epoch 19/20\n",
            "1313/1313 [==============================] - 3s 2ms/step - loss: 0.0250 - accuracy: 0.9915 - val_loss: 0.1017 - val_accuracy: 0.9753\n",
            "Epoch 20/20\n",
            "1313/1313 [==============================] - 3s 2ms/step - loss: 0.0248 - accuracy: 0.9918 - val_loss: 0.1050 - val_accuracy: 0.9750\n"
          ],
          "name": "stdout"
        },
        {
          "output_type": "display_data",
          "data": {
            "image/png": "[encoded data removed]",
            "text/plain": [
              "<Figure size 432x288 with 1 Axes>"
            ]
          },
          "metadata": {
            "tags": [],
            "needs_background": "light"
          }
        }
      ]
    },
    {
      "cell_type": "code",
      "metadata": {
        "colab": {
          "base_uri": "https://localhost:8080/",
          "height": 295
        },
        "id": "FUd9VcprkNc3",
        "outputId": "eeb41d37-090b-48cc-e2ac-6132b191aa69"
      },
      "source": [
        "# plot learning curves\n",
        "pyplot.title('Learning Curves')\n",
        "pyplot.xlabel('Epoch')\n",
        "pyplot.ylabel('Cross Entropy Loss')\n",
        "pyplot.plot(history.history['accuracy'], label='train')\n",
        "pyplot.plot(history.history['val_accuracy'], label='val')\n",
        "pyplot.legend()\n",
        "pyplot.show()"
      ],
      "execution_count": 11,
      "outputs": [
        {
          "output_type": "display_data",
          "data": {
            "image/png": "[encoded data removed]",
            "text/plain": [
              "<Figure size 432x288 with 1 Axes>"
            ]
          },
          "metadata": {
            "tags": [],
            "needs_background": "light"
          }
        }
      ]
    },
    {
      "cell_type": "code",
      "metadata": {
        "id": "y7suUbJXVLqP"
      },
      "source": [
        "# model.fit(x_train, y_train, epochs=5)"
      ],
      "execution_count": 12,
      "outputs": []
    },
    {
      "cell_type": "markdown",
      "metadata": {
        "id": "4mDAAPFqVVgn"
      },
      "source": [
        "The `Model.evaluate` method checks the models performance, usually on a \"[Validation-set](https://developers.google.com/machine-learning/glossary#validation-set)\" or \"[Test-set](https://developers.google.com/machine-learning/glossary#test-set)\"."
      ]
    },
    {
      "cell_type": "code",
      "metadata": {
        "id": "F7dTAzgHDUh7",
        "colab": {
          "base_uri": "https://localhost:8080/"
        },
        "outputId": "c4a2f0a8-efab-440a-bba5-8b31ab300d6d"
      },
      "source": [
        "model.evaluate(x_test,  y_test, verbose=2)"
      ],
      "execution_count": 13,
      "outputs": [
        {
          "output_type": "stream",
          "text": [
            "313/313 - 0s - loss: 0.0865 - accuracy: 0.9787\n"
          ],
          "name": "stdout"
        },
        {
          "output_type": "execute_result",
          "data": {
            "text/plain": [
              "[0.08648476004600525, 0.9786999821662903]"
            ]
          },
          "metadata": {
            "tags": []
          },
          "execution_count": 13
        }
      ]
    },
    {
      "cell_type": "markdown",
      "metadata": {
        "id": "T4JfEh7kvx6m"
      },
      "source": [
        "The image classifier is now trained to ~98% accuracy on this dataset. To learn more, read the [TensorFlow tutorials](https://www.tensorflow.org/tutorials/)."
      ]
    },
    {
      "cell_type": "markdown",
      "metadata": {
        "id": "Aj8NrlzlJqDG"
      },
      "source": [
        "If you want your model to return a probability, you can wrap the trained model, and attach the softmax to it:"
      ]
    },
    {
      "cell_type": "code",
      "metadata": {
        "id": "rYb6DrEH0GMv"
      },
      "source": [
        "probability_model = tf.keras.Sequential([\n",
        "  model,\n",
        "  tf.keras.layers.Softmax()\n",
        "])"
      ],
      "execution_count": 14,
      "outputs": []
    },
    {
      "cell_type": "code",
      "metadata": {
        "id": "cnqOZtUp1YR_",
        "colab": {
          "base_uri": "https://localhost:8080/"
        },
        "outputId": "5c914372-cd26-40ea-fe66-ff82321b4297"
      },
      "source": [
        "probability_model(x_test[:5])"
      ],
      "execution_count": 15,
      "outputs": [
        {
          "output_type": "execute_result",
          "data": {
            "text/plain": [
              "<tf.Tensor: shape=(5, 10), dtype=float32, numpy=\n",
              "array([[1.8904636e-13, 6.6349140e-13, 6.9575896e-09, 3.5057907e-05,\n",
              "        5.4588545e-21, 1.6240804e-13, 1.2862701e-22, 9.9996495e-01,\n",
              "        3.0773168e-13, 1.4476377e-08],\n",
              "       [7.5429885e-15, 6.7164856e-09, 1.0000000e+00, 5.1638915e-09,\n",
              "        5.8390039e-31, 2.8307476e-11, 1.6131519e-14, 3.3497203e-24,\n",
              "        1.8917273e-13, 8.5730524e-31],\n",
              "       [2.1493720e-09, 9.9995577e-01, 4.8196525e-06, 1.1733287e-08,\n",
              "        8.4710194e-09, 1.0523906e-09, 1.3016332e-08, 3.9116239e-05,\n",
              "        2.6642007e-07, 5.3880771e-11],\n",
              "       [9.9998987e-01, 4.3715495e-16, 9.9916942e-06, 3.7482931e-10,\n",
              "        1.3587845e-11, 3.5097897e-10, 1.9351521e-08, 3.6414078e-09,\n",
              "        2.8533653e-12, 9.5412446e-08],\n",
              "       [4.5922960e-10, 1.0416699e-18, 7.9179646e-10, 4.0345716e-13,\n",
              "        9.9999022e-01, 1.1736212e-13, 2.3373828e-10, 1.1989066e-07,\n",
              "        4.0806451e-12, 9.6198883e-06]], dtype=float32)>"
            ]
          },
          "metadata": {
            "tags": []
          },
          "execution_count": 15
        }
      ]
    }
  ]
}